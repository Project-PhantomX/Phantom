{
 "cells": [
  {
   "cell_type": "code",
   "execution_count": 1,
   "metadata": {},
   "outputs": [],
   "source": [
    "%load_ext autoreload\n",
    "%autoreload 1"
   ]
  },
  {
   "cell_type": "code",
   "execution_count": 2,
   "metadata": {},
   "outputs": [
    {
     "name": "stderr",
     "output_type": "stream",
     "text": [
      "kj/filesystem-disk-unix.c++:1703: warning: PWD environment variable doesn't match current directory; pwd = /home/garymm\n",
      "logging to /tmp/minetest_ls5omfpu/artifacts/log\n"
     ]
    },
    {
     "name": "stdout",
     "output_type": "stream",
     "text": [
      "Using minetest executable: /home/garymm/src/Astera-org/minetest/bin/minetest\n"
     ]
    }
   ],
   "source": [
    "import os\n",
    "import subprocess\n",
    "from pathlib import Path\n",
    "import tempfile\n",
    "import time\n",
    "\n",
    "import numpy as np\n",
    "from tqdm.notebook import trange\n",
    "\n",
    "%aimport minetest\n",
    "\n",
    "repo_root = Path(globals()['_dh'][0]).parent.parent\n",
    "temp_dir = tempfile.mkdtemp(prefix=\"minetest_\")\n",
    "game_dir = os.path.join(os.environ[\"CONDA_PREFIX\"], \"share/minetest/games/devtest\")\n",
    "# install devtest game if needed\n",
    "if not os.path.exists(game_dir):\n",
    "    os.makedirs(os.path.dirname(game_dir), exist_ok=True)\n",
    "    os.symlink(os.path.realpath(os.path.join(repo_root, \"games/devtest\")), game_dir)\n",
    "\n",
    "# use minetest from repo if needed\n",
    "minetest_executable = os.path.join(os.environ[\"CONDA_PREFIX\"], \"bin/minetest\")\n",
    "if not os.path.exists(minetest_executable):\n",
    "    minetest_executable = os.path.join(repo_root, \"bin/minetest\")\n",
    "print(f\"Using minetest executable: {minetest_executable}\")\n",
    "\n",
    "version_str = subprocess.check_output((minetest_executable, \"--version\"))\n",
    "build_type_prefix = \"BUILD_TYPE=\"\n",
    "for line in version_str.decode().split(\"\\n\"):\n",
    "    if line.startswith(build_type_prefix):\n",
    "        build_type = line[len(build_type_prefix):]\n",
    "        assert build_type == \"Release\", f\"Benchmark should happen on a release build, got: {build_type}\"\n",
    "\n",
    "def benchmark(env, get_action):\n",
    "    with env:\n",
    "        env.reset()\n",
    "        start = time.time()\n",
    "        n_iters = 900\n",
    "        for _ in trange(n_iters):\n",
    "            action = get_action(env)\n",
    "            observation, reward, done, truncated, info = env.step(action)\n",
    "            if done:\n",
    "                break\n",
    "        stop = time.time()\n",
    "        print(\"FPS:\", n_iters / (stop - start))\n",
    "\n",
    "def sample_action(env):\n",
    "    return env.action_space.sample()\n",
    "\n",
    "empty_action = {\"KEYS\": np.ndarray(0), \"MOUSE\": [0, 0]}\n",
    "\n",
    "\n",
    "def get_empty_action(env):\n",
    "    return empty_action\n",
    "\n",
    "env = minetest.MinetestEnv(\n",
    "    executable=minetest_executable,\n",
    "    artifact_dir=os.path.join(temp_dir, \"artifacts\"),\n",
    "    game_dir=game_dir,\n",
    "    headless=True,\n",
    "    log_to_stderr=True,\n",
    ")"
   ]
  },
  {
   "cell_type": "markdown",
   "metadata": {},
   "source": [
    "## Sample action"
   ]
  },
  {
   "cell_type": "code",
   "execution_count": 3,
   "metadata": {},
   "outputs": [
    {
     "name": "stderr",
     "output_type": "stream",
     "text": [
      "incrementing socket\n",
      "Client started with pid 259725\n",
      "capnp_client.init()...\n",
      "Waiting for first obs...\n",
      "Received first obs: (400, 600, 3)\n"
     ]
    },
    {
     "data": {
      "application/vnd.jupyter.widget-view+json": {
       "model_id": "47afaebef5e648ea921b5ac5c4d8290b",
       "version_major": 2,
       "version_minor": 0
      },
      "text/plain": [
       "  0%|          | 0/900 [00:00<?, ?it/s]"
      ]
     },
     "metadata": {},
     "output_type": "display_data"
    },
    {
     "name": "stdout",
     "output_type": "stream",
     "text": [
      "FPS: 59.81615590066839\n"
     ]
    }
   ],
   "source": [
    "benchmark(env, get_empty_action)"
   ]
  }
 ],
 "metadata": {
  "kernelspec": {
   "display_name": "minetest-python-example",
   "language": "python",
   "name": "python3"
  },
  "language_info": {
   "codemirror_mode": {
    "name": "ipython",
    "version": 3
   },
   "file_extension": ".py",
   "mimetype": "text/x-python",
   "name": "python",
   "nbconvert_exporter": "python",
   "pygments_lexer": "ipython3",
   "version": "3.10.8"
  }
 },
 "nbformat": 4,
 "nbformat_minor": 2
}
